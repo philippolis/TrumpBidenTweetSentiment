{
  "nbformat": 4,
  "nbformat_minor": 0,
  "metadata": {
    "colab": {
      "name": "POLM030_Assignment2_BidenTrump_tweepy.ipynb",
      "provenance": [],
      "collapsed_sections": []
    },
    "kernelspec": {
      "name": "python3",
      "display_name": "Python 3"
    }
  },
  "cells": [
    {
      "cell_type": "markdown",
      "metadata": {
        "id": "-2pZmEBq7wyd"
      },
      "source": [
        "# Prerequisites"
      ]
    },
    {
      "cell_type": "markdown",
      "metadata": {
        "id": "46dTeIoRwlRX"
      },
      "source": [
        "## Storing my credentials"
      ]
    },
    {
      "cell_type": "code",
      "metadata": {
        "id": "rv-_zQyZKcK1"
      },
      "source": [
        "import json\n",
        "\n",
        "# Set up credentials file\n",
        "credentials = {}\n",
        "credentials['CONSUMER_KEY'] = \"ADD CONSUMER KEY\"\n",
        "credentials['CONSUMER_SECRET'] = \"ADD CONSUMER SECRET\"\n",
        "credentials['ACCESS_TOKEN'] = \"ADD ACCESS TOKEN\"\n",
        "credentials['ACCESS_SECRET'] = \"ADD ACCESS SECRET\"\n",
        "\n",
        "# Store credentials\n",
        "with open(\"twitter_credentials.json\", \"w\") as file:\n",
        "    json.dump(credentials, file)"
      ],
      "execution_count": 1,
      "outputs": []
    },
    {
      "cell_type": "markdown",
      "metadata": {
        "id": "nwopZsw4HGJl"
      },
      "source": [
        "## Making the connection"
      ]
    },
    {
      "cell_type": "code",
      "metadata": {
        "colab": {
          "base_uri": "https://localhost:8080/"
        },
        "id": "miqieeqlKhaB",
        "outputId": "12d2a802-dc31-4141-9671-f3fba592b7a4"
      },
      "source": [
        "import tweepy\n",
        "\n",
        "# Read credentials as json file\n",
        "with open(\"twitter_credentials.json\", \"r\") as file:\n",
        "    creds = json.load(file)\n",
        "\n",
        "# Authenticate to Twitter\n",
        "auth = tweepy.OAuthHandler(creds['CONSUMER_KEY'], creds['CONSUMER_SECRET'])\n",
        "auth.set_access_token(creds['ACCESS_TOKEN'], creds['ACCESS_SECRET'])\n",
        "api = tweepy.API(auth, parser=tweepy.parsers.JSONParser())\n",
        "\n",
        "# test authentication\n",
        "try:\n",
        "    api.verify_credentials()\n",
        "    print(\"Authentication OK\")\n",
        "except:\n",
        "    print(\"Error during authentication\")"
      ],
      "execution_count": 2,
      "outputs": [
        {
          "output_type": "stream",
          "text": [
            "Authentication OK\n"
          ],
          "name": "stdout"
        }
      ]
    },
    {
      "cell_type": "markdown",
      "metadata": {
        "id": "8GX6bX0-BZZ0"
      },
      "source": [
        "# Getting Trump and Biden's latest Tweets "
      ]
    },
    {
      "cell_type": "markdown",
      "metadata": {
        "id": "q5h1yv5yxvYG"
      },
      "source": [
        "## Making the query and storing the results in a DataFrame"
      ]
    },
    {
      "cell_type": "code",
      "metadata": {
        "id": "7jPuDa2JvhZW",
        "colab": {
          "base_uri": "https://localhost:8080/"
        },
        "outputId": "634de1cb-174a-4304-eb2c-c589bc46068d"
      },
      "source": [
        "# Define a query and store the results as a json\n",
        "Biden_json = api.search(q='from:@JoeBiden', result_type='recent', \n",
        "                           count=100, exclude='retweets', \n",
        "                           lang='en', tweet_mode='extended')\n",
        "\n",
        "Trump_json = api.search(q='from:@realDonaldTrump', result_type='recent', \n",
        "                           count=100, exclude='retweets', \n",
        "                           lang='en', tweet_mode='extended')\n",
        "\n",
        "# Call pandas to handle the data once it is in\n",
        "import pandas as pd\n",
        "\n",
        "# Create a dictionary as an intermediary to store the data\n",
        "Biden_dict = {'tweet_id': [], 'datetime': [], 'favorite_count': [], 'retweet_count': [], 'full_text': []}\n",
        "Trump_dict = {'tweet_id': [], 'datetime': [], 'favorite_count': [], 'retweet_count': [], 'full_text': []}\n",
        "\n",
        "# Fill the Biden dictionary\n",
        "for status in Biden_json['statuses']:\n",
        "   Biden_dict['tweet_id'].append(status['id'])\n",
        "   Biden_dict['datetime'].append(status['created_at'])\n",
        "   Biden_dict['favorite_count'].append(status['favorite_count'])\n",
        "   Biden_dict['retweet_count'].append(status['retweet_count'])\n",
        "   Biden_dict['full_text'].append(status['full_text'])\n",
        "\n",
        "# Fill the Trump dictionary\n",
        "for status in Trump_json['statuses']:\n",
        "   Trump_dict['tweet_id'].append(status['id'])\n",
        "   Trump_dict['datetime'].append(status['created_at'])\n",
        "   Trump_dict['favorite_count'].append(status['favorite_count'])\n",
        "   Trump_dict['retweet_count'].append(status['retweet_count'])\n",
        "   Trump_dict['full_text'].append(status['full_text'])\n",
        "\n",
        "# Structure data in a pandas DataFrame for easier manipulation\n",
        "Biden_df = pd.DataFrame(Biden_dict)\n",
        "Trump_df = pd.DataFrame(Trump_dict)\n",
        "\n",
        "print(len(Biden_df))\n",
        "print(len(Trump_df))"
      ],
      "execution_count": 3,
      "outputs": [
        {
          "output_type": "stream",
          "text": [
            "15\n",
            "0\n"
          ],
          "name": "stdout"
        }
      ]
    },
    {
      "cell_type": "markdown",
      "metadata": {
        "id": "cpt3JhnwhXu7"
      },
      "source": [
        "## Adding columns with the respective name"
      ]
    },
    {
      "cell_type": "code",
      "metadata": {
        "id": "P4tTBnUF5Wu-"
      },
      "source": [
        "# Add columns with names\n",
        "Biden_list = ['Biden'] * len(Biden_df.index)\n",
        "Trump_list = ['Trump'] * len(Trump_df.index)\n",
        "\n",
        "# join lists to dataframes\n",
        "Biden_df['person'] = Biden_list\n",
        "Trump_df['person'] = Trump_list\n",
        "\n"
      ],
      "execution_count": 4,
      "outputs": []
    },
    {
      "cell_type": "markdown",
      "metadata": {
        "id": "XkxutZBkdNnU"
      },
      "source": [
        "## Converting the time column"
      ]
    },
    {
      "cell_type": "code",
      "metadata": {
        "colab": {
          "base_uri": "https://localhost:8080/"
        },
        "id": "uNJdwdR-dSAg",
        "outputId": "8b800cf9-365e-432a-aa1c-bf6e40f97f14"
      },
      "source": [
        "# make an empty list for Tweet timing\n",
        "Biden_date = []\n",
        "Biden_hour = []\n",
        "Trump_date = []\n",
        "Trump_hour = []\n",
        "\n",
        "# extract time, convert it, change from GMT to Eastern\n",
        "for tweets in Biden_json['statuses']:\n",
        "    stamp = pd.to_datetime(tweets['created_at'])\n",
        "    stamp = stamp - pd.Timedelta('05:00:00')\n",
        "    Biden_date.append(stamp.date())\n",
        "    Biden_hour.append(stamp.hour)\n",
        "\n",
        "for tweets in Trump_json['statuses']:\n",
        "    stamp = pd.to_datetime(tweets['created_at'])\n",
        "    stamp = stamp - pd.Timedelta('05:00:00')\n",
        "    Trump_date.append(stamp.date())\n",
        "    Trump_hour.append(stamp.hour)\n",
        "\n",
        "# Append the list to the Biden_df\n",
        "Biden_df['date'] = Biden_date\n",
        "Biden_df['hour'] = Biden_hour\n",
        "Trump_df['date'] = Trump_date\n",
        "Trump_df['hour'] = Trump_hour\n",
        "\n",
        "print(Biden_df['date'].head(5))\n",
        "print(Biden_df['hour'].head(5))\n",
        "print(Trump_df['date'].head(5))\n",
        "print(Trump_df['hour'].head(5))"
      ],
      "execution_count": 5,
      "outputs": [
        {
          "output_type": "stream",
          "text": [
            "0    2021-01-20\n",
            "1    2021-01-20\n",
            "2    2021-01-20\n",
            "3    2021-01-20\n",
            "4    2021-01-19\n",
            "Name: date, dtype: object\n",
            "0    12\n",
            "1    10\n",
            "2     9\n",
            "3     9\n",
            "4    22\n",
            "Name: hour, dtype: int64\n",
            "Series([], Name: date, dtype: float64)\n",
            "Series([], Name: hour, dtype: float64)\n"
          ],
          "name": "stdout"
        }
      ]
    },
    {
      "cell_type": "markdown",
      "metadata": {
        "id": "hrWkE8iTINsN"
      },
      "source": [
        "## Creating another column with clean text"
      ]
    },
    {
      "cell_type": "code",
      "metadata": {
        "colab": {
          "base_uri": "https://localhost:8080/"
        },
        "id": "KZuwM_3eIRIE",
        "outputId": "007da6f2-9260-472d-cf7d-ee9f5a295a5b"
      },
      "source": [
        "#import regular expression library\n",
        "import re\n",
        "\n",
        "# Store tweets in list\n",
        "Biden_clean_text = []\n",
        "Trump_clean_text = []\n",
        "\n",
        "# Clean up from object and append into list\n",
        "for tweets in Biden_json['statuses']:\n",
        "    text = tweets['full_text']\n",
        "    text = text.lower()\n",
        "    text = re.sub(r\"http\\S+\", \"\", text)\n",
        "    text = re.sub(r\"amp\", \"\", text)\n",
        "    text = re.sub(r\"\\n\", \"\", text)\n",
        "    Biden_clean_text.append(text)\n",
        "\n",
        "for tweets in Trump_json['statuses']:\n",
        "    text = tweets['full_text']\n",
        "    text = text.lower()\n",
        "    text = re.sub(r\"http\\S+\", \"\", text)\n",
        "    text = re.sub(r\"amp\", \"\", text)\n",
        "    text = re.sub(r\"\\n\", \"\", text)\n",
        "    Trump_clean_text.append(text)\n",
        "\n",
        "# Append the list to the Biden_df\n",
        "Biden_df['clean_text'] = Biden_clean_text\n",
        "Trump_df['clean_text'] = Trump_clean_text\n",
        "\n",
        "print(Biden_df.head())\n",
        "print(Trump_df.head())"
      ],
      "execution_count": 6,
      "outputs": [
        {
          "output_type": "stream",
          "text": [
            "              tweet_id  ...                                         clean_text\n",
            "0  1351951465674276869  ...  now the real work begins, folks. follow along ...\n",
            "1  1351918910199631872  ...  i love you, jilly, and i couldn’t be more grat...\n",
            "2  1351906918667677696  ...  today, we begin anew. tune in for #inauguratio...\n",
            "3  1351897267666608129  ...                         it’s a new day in america.\n",
            "4  1351731172989050882  ...  tonight, in washington, d.c. and across the na...\n",
            "\n",
            "[5 rows x 9 columns]\n",
            "Empty DataFrame\n",
            "Columns: [tweet_id, datetime, favorite_count, retweet_count, full_text, person, date, hour, clean_text]\n",
            "Index: []\n"
          ],
          "name": "stdout"
        }
      ]
    },
    {
      "cell_type": "markdown",
      "metadata": {
        "id": "oW-8byg-KScx"
      },
      "source": [
        "## Creating more columns with sentiment scores per tweet"
      ]
    },
    {
      "cell_type": "markdown",
      "metadata": {
        "id": "Ze5BThkPKliq"
      },
      "source": [
        "### Initializing the sentiment analyzer"
      ]
    },
    {
      "cell_type": "code",
      "metadata": {
        "colab": {
          "base_uri": "https://localhost:8080/"
        },
        "id": "k2rp9DHfKXyX",
        "outputId": "f6376b42-8ea5-435e-90e9-e12474b382e4"
      },
      "source": [
        "import nltk\n",
        "nltk.download('vader_lexicon')\n",
        "from nltk.sentiment.vader import SentimentIntensityAnalyzer\n",
        "sid = SentimentIntensityAnalyzer()"
      ],
      "execution_count": 7,
      "outputs": [
        {
          "output_type": "stream",
          "text": [
            "[nltk_data] Downloading package vader_lexicon to /root/nltk_data...\n"
          ],
          "name": "stdout"
        },
        {
          "output_type": "stream",
          "text": [
            "/usr/local/lib/python3.6/dist-packages/nltk/twitter/__init__.py:20: UserWarning: The twython library has not been installed. Some functionality from the twitter package will not be available.\n",
            "  warnings.warn(\"The twython library has not been installed. \"\n"
          ],
          "name": "stderr"
        }
      ]
    },
    {
      "cell_type": "markdown",
      "metadata": {
        "id": "T-9Ycad-KyHK"
      },
      "source": [
        "### Creating and filling the columns"
      ]
    },
    {
      "cell_type": "code",
      "metadata": {
        "colab": {
          "base_uri": "https://localhost:8080/"
        },
        "id": "we57cyaDK72w",
        "outputId": "bc3dd6a7-68b9-4191-b2e7-2e9da58c372a"
      },
      "source": [
        "# Initializing the necessary lists\n",
        "Biden_sentiment_all = []\n",
        "Biden_sentiment_neg = []\n",
        "Biden_sentiment_neu = []\n",
        "Biden_sentiment_pos = []\n",
        "Biden_sentiment_compound = []\n",
        "\n",
        "Trump_sentiment_all = []\n",
        "Trump_sentiment_neg = []\n",
        "Trump_sentiment_neu = []\n",
        "Trump_sentiment_pos = []\n",
        "Trump_sentiment_compound = []\n",
        "\n",
        "# Calculating the sentiment scores\n",
        "for tweet in Biden_clean_text:\n",
        "  sentiment = sid.polarity_scores(tweet)\n",
        "  Biden_sentiment_all.append(sentiment)\n",
        "\n",
        "for tweet in Trump_clean_text:\n",
        "  sentiment = sid.polarity_scores(tweet)\n",
        "  Trump_sentiment_all.append(sentiment)\n",
        "\n",
        "# Fill the lists\n",
        "for sentiment in Biden_sentiment_all:\n",
        "   Biden_sentiment_neg.append(sentiment['neg'])\n",
        "   Biden_sentiment_neu.append(sentiment['neu'])\n",
        "   Biden_sentiment_pos.append(sentiment['pos'])\n",
        "   Biden_sentiment_compound.append(sentiment['compound'])\n",
        "\n",
        "for sentiment in Trump_sentiment_all:\n",
        "   Trump_sentiment_neg.append(sentiment['neg'])\n",
        "   Trump_sentiment_neu.append(sentiment['neu'])\n",
        "   Trump_sentiment_pos.append(sentiment['pos'])\n",
        "   Trump_sentiment_compound.append(sentiment['compound'])\n",
        "\n",
        "# Appending the sentiments to the respective dataframes\n",
        "Biden_df['sentiment_neg'] = Biden_sentiment_neg\n",
        "Biden_df['sentiment_neu'] = Biden_sentiment_neu\n",
        "Biden_df['sentiment_pos'] = Biden_sentiment_pos\n",
        "Biden_df['sentiment_compound'] = Biden_sentiment_compound\n",
        "\n",
        "Trump_df['sentiment_neg'] = Trump_sentiment_neg\n",
        "Trump_df['sentiment_neu'] = Trump_sentiment_neu\n",
        "Trump_df['sentiment_pos'] = Trump_sentiment_pos\n",
        "Trump_df['sentiment_compound'] = Trump_sentiment_compound\n",
        "\n",
        "print(Biden_df.head(5))\n",
        "print(Trump_df.head(5))\n",
        "\n",
        "for col in Biden_df.columns:\n",
        "  print(col)\n",
        "\n",
        "print('\\n')\n",
        "\n",
        "for col in Trump_df.columns:\n",
        "  print(col)"
      ],
      "execution_count": 8,
      "outputs": [
        {
          "output_type": "stream",
          "text": [
            "              tweet_id  ... sentiment_compound\n",
            "0  1351951465674276869  ...             0.4404\n",
            "1  1351918910199631872  ...             0.8173\n",
            "2  1351906918667677696  ...             0.0000\n",
            "3  1351897267666608129  ...             0.0000\n",
            "4  1351731172989050882  ...             0.1154\n",
            "\n",
            "[5 rows x 13 columns]\n",
            "Empty DataFrame\n",
            "Columns: [tweet_id, datetime, favorite_count, retweet_count, full_text, person, date, hour, clean_text, sentiment_neg, sentiment_neu, sentiment_pos, sentiment_compound]\n",
            "Index: []\n",
            "tweet_id\n",
            "datetime\n",
            "favorite_count\n",
            "retweet_count\n",
            "full_text\n",
            "person\n",
            "date\n",
            "hour\n",
            "clean_text\n",
            "sentiment_neg\n",
            "sentiment_neu\n",
            "sentiment_pos\n",
            "sentiment_compound\n",
            "\n",
            "\n",
            "tweet_id\n",
            "datetime\n",
            "favorite_count\n",
            "retweet_count\n",
            "full_text\n",
            "person\n",
            "date\n",
            "hour\n",
            "clean_text\n",
            "sentiment_neg\n",
            "sentiment_neu\n",
            "sentiment_pos\n",
            "sentiment_compound\n"
          ],
          "name": "stdout"
        }
      ]
    },
    {
      "cell_type": "markdown",
      "metadata": {
        "id": "5zth8OzTSrmB"
      },
      "source": [
        "## Create dataframes without sentiment = 0.0 observations"
      ]
    },
    {
      "cell_type": "code",
      "metadata": {
        "colab": {
          "base_uri": "https://localhost:8080/"
        },
        "id": "o8FWUV4dS1ld",
        "outputId": "a3ee9692-1289-4e5c-e5f3-5f62383a7f24"
      },
      "source": [
        "# Creating new dataframe without sentiments = 0.0 for Biden\n",
        "Biden_sentiments_df = Biden_df[Biden_df.sentiment_compound != 0]\n",
        "\n",
        "print(Biden_df['sentiment_compound'].head(20))\n",
        "print(Biden_sentiments_df['sentiment_compound'].head(20))\n",
        "\n",
        "# Check how many tweets got sentiment = 0.0\n",
        "print(len(Biden_df))\n",
        "print(len(Biden_sentiments_df))\n",
        "\n",
        "# Creating new dataframe without sentiments = 0.0 for Trump\n",
        "Trump_sentiments_df = Trump_df[Trump_df.sentiment_compound != 0]\n",
        "\n",
        "print(Trump_df['sentiment_compound'].head(20))\n",
        "print(Trump_sentiments_df['sentiment_compound'].head(20))\n",
        "\n",
        "# Check how many tweets got sentiment = 0.0\n",
        "print(len(Trump_df))\n",
        "print(len(Trump_sentiments_df))"
      ],
      "execution_count": 9,
      "outputs": [
        {
          "output_type": "stream",
          "text": [
            "0     0.4404\n",
            "1     0.8173\n",
            "2     0.0000\n",
            "3     0.0000\n",
            "4     0.1154\n",
            "5    -0.4215\n",
            "6     0.4767\n",
            "7    -0.2960\n",
            "8     0.0000\n",
            "9     0.0772\n",
            "10    0.8176\n",
            "11   -0.4588\n",
            "12    0.3182\n",
            "13    0.8591\n",
            "14    0.8126\n",
            "Name: sentiment_compound, dtype: float64\n",
            "0     0.4404\n",
            "1     0.8173\n",
            "4     0.1154\n",
            "5    -0.4215\n",
            "6     0.4767\n",
            "7    -0.2960\n",
            "9     0.0772\n",
            "10    0.8176\n",
            "11   -0.4588\n",
            "12    0.3182\n",
            "13    0.8591\n",
            "14    0.8126\n",
            "Name: sentiment_compound, dtype: float64\n",
            "15\n",
            "12\n",
            "Series([], Name: sentiment_compound, dtype: float64)\n",
            "Series([], Name: sentiment_compound, dtype: float64)\n",
            "0\n",
            "0\n"
          ],
          "name": "stdout"
        }
      ]
    },
    {
      "cell_type": "markdown",
      "metadata": {
        "id": "zX_ynxPu5RNl"
      },
      "source": [
        "## Joining the dataframes for Biden and Trump"
      ]
    },
    {
      "cell_type": "code",
      "metadata": {
        "colab": {
          "base_uri": "https://localhost:8080/"
        },
        "id": "3lWz0bzDUpIk",
        "outputId": "0c4a924b-ad97-41f6-e74d-5e7f6ed3dc11"
      },
      "source": [
        "# Concatenate both dataframes\n",
        "BidenTrump_df = pd.concat([Biden_df,Trump_df])\n",
        "\n",
        "BidenTrump_sentiments_df = pd.concat([Biden_sentiments_df,Trump_sentiments_df])\n",
        "\n",
        "# Check what the sentiment_compound = 0.0 Tweets looked like. Decided to keep them\n",
        "print(BidenTrump_df.loc[BidenTrump_df['sentiment_compound'] == 0]['full_text'])\n"
      ],
      "execution_count": 10,
      "outputs": [
        {
          "output_type": "stream",
          "text": [
            "2    Today, we begin anew. Tune in for #Inauguratio...\n",
            "3                           It’s a new day in America.\n",
            "8    I’m in Delaware for one final event before I h...\n",
            "Name: full_text, dtype: object\n"
          ],
          "name": "stdout"
        }
      ]
    },
    {
      "cell_type": "markdown",
      "metadata": {
        "id": "MROfCArF60VV"
      },
      "source": [
        "# Create Wordclouds from tweets"
      ]
    },
    {
      "cell_type": "markdown",
      "metadata": {
        "id": "uFBQceGJ7KcC"
      },
      "source": [
        "## Wordcloud Biden"
      ]
    },
    {
      "cell_type": "code",
      "metadata": {
        "colab": {
          "base_uri": "https://localhost:8080/",
          "height": 216
        },
        "id": "EjKZobKi7Nsd",
        "outputId": "f4f8f9e7-c00f-4bab-8bcd-341ec9d0bc7f"
      },
      "source": [
        "# Import the packages\n",
        "import matplotlib as mpl\n",
        "import numpy as np\n",
        "import matplotlib.pyplot as plt\n",
        "from wordcloud import WordCloud, STOPWORDS\n",
        "\n",
        "## Pull the list together into a single string\n",
        "Biden_string = \"\"\n",
        "Biden_string = ''.join(Biden_df['clean_text'])\n",
        "\n",
        "# Pull out stopwords from the wordcloud package\n",
        "stopwords = set(STOPWORDS)\n",
        "\n",
        "# Create color sheme\n",
        "cmap_Blues = mpl.cm.Blues(np.linspace(0,1,20))\n",
        "cmap_Blues = mpl.colors.ListedColormap(cmap_Blues[10:,:-1])\n",
        "\n",
        "# Make the text object    \n",
        "Biden_wordcloud_test = WordCloud(stopwords=stopwords, background_color=\"white\", colormap=cmap_Blues).generate(Biden_string)\n",
        "\n",
        "# set plot up\n",
        "plt.figure(figsize=(6,6))\n",
        "plt.imshow(Biden_wordcloud_test, interpolation='bilinear')\n",
        "plt.axis(\"off\")\n",
        "plt.show()\n",
        "plt.clf()"
      ],
      "execution_count": 11,
      "outputs": [
        {
          "output_type": "display_data",
          "data": {
            "image/png": "[encoded data removed]",
            "text/plain": [
              "<Figure size 432x432 with 1 Axes>"
            ]
          },
          "metadata": {
            "tags": [],
            "needs_background": "light"
          }
        },
        {
          "output_type": "display_data",
          "data": {
            "text/plain": [
              "<Figure size 432x288 with 0 Axes>"
            ]
          },
          "metadata": {
            "tags": []
          }
        }
      ]
    },
    {
      "cell_type": "markdown",
      "metadata": {
        "id": "TYbklCitzn2X"
      },
      "source": [
        "### Getting rid of some words in the word cloud"
      ]
    },
    {
      "cell_type": "code",
      "metadata": {
        "colab": {
          "base_uri": "https://localhost:8080/",
          "height": 216
        },
        "id": "z3Lliy7vzv7p",
        "outputId": "db5b7565-f6cb-470b-8812-73eee8251908"
      },
      "source": [
        "# Add more stopwords - \"let\", \"will\"\n",
        "stopwords.update([\"will\"])\n",
        "\n",
        "Biden_wordcloud = WordCloud(stopwords=stopwords, background_color=\"white\", colormap=cmap_Blues).generate(Biden_string)\n",
        "\n",
        "plt.figure(figsize=(6,6))\n",
        "plt.imshow(Biden_wordcloud, interpolation='bilinear')\n",
        "plt.axis(\"off\")\n"
      ],
      "execution_count": 12,
      "outputs": [
        {
          "output_type": "execute_result",
          "data": {
            "text/plain": [
              "(-0.5, 399.5, 199.5, -0.5)"
            ]
          },
          "metadata": {
            "tags": []
          },
          "execution_count": 12
        },
        {
          "output_type": "display_data",
          "data": {
            "image/png": "[encoded data removed]",
            "text/plain": [
              "<Figure size 432x432 with 1 Axes>"
            ]
          },
          "metadata": {
            "tags": [],
            "needs_background": "light"
          }
        }
      ]
    },
    {
      "cell_type": "markdown",
      "metadata": {
        "id": "2LZP-wyKCJic"
      },
      "source": [
        "### Downloading the plot"
      ]
    },
    {
      "cell_type": "code",
      "metadata": {
        "colab": {
          "base_uri": "https://localhost:8080/",
          "height": 52
        },
        "id": "8eXy4fJuCJOc",
        "outputId": "4e4516fa-44b5-4c0a-9870-d7b5a7e843be"
      },
      "source": [
        "from google.colab import files\n",
        "import time\n",
        "\n",
        "timestr = time.strftime(\"%Y%m%d-%H%M%S\")\n",
        "Biden_filename = 'Biden_wordcloud_' + timestr + '.png'\n",
        "print(Biden_filename)\n",
        "\n",
        "Biden_wordcloud.to_file(Biden_filename)\n",
        "files.download(Biden_filename)\n",
        "\n",
        "plt.clf()"
      ],
      "execution_count": 13,
      "outputs": [
        {
          "output_type": "stream",
          "text": [
            "Biden_wordcloud_20210125-152117.png\n"
          ],
          "name": "stdout"
        },
        {
          "output_type": "display_data",
          "data": {
            "application/javascript": [
              "\n",
              "    async function download(id, filename, size) {\n",
              "      if (!google.colab.kernel.accessAllowed) {\n",
              "        return;\n",
              "      }\n",
              "      const div = document.createElement('div');\n",
              "      const label = document.createElement('label');\n",
              "      label.textContent = `Downloading \"${filename}\": `;\n",
              "      div.appendChild(label);\n",
              "      const progress = document.createElement('progress');\n",
              "      progress.max = size;\n",
              "      div.appendChild(progress);\n",
              "      document.body.appendChild(div);\n",
              "\n",
              "      const buffers = [];\n",
              "      let downloaded = 0;\n",
              "\n",
              "      const channel = await google.colab.kernel.comms.open(id);\n",
              "      // Send a message to notify the kernel that we're ready.\n",
              "      channel.send({})\n",
              "\n",
              "      for await (const message of channel.messages) {\n",
              "        // Send a message to notify the kernel that we're ready.\n",
              "        channel.send({})\n",
              "        if (message.buffers) {\n",
              "          for (const buffer of message.buffers) {\n",
              "            buffers.push(buffer);\n",
              "            downloaded += buffer.byteLength;\n",
              "            progress.value = downloaded;\n",
              "          }\n",
              "        }\n",
              "      }\n",
              "      const blob = new Blob(buffers, {type: 'application/binary'});\n",
              "      const a = document.createElement('a');\n",
              "      a.href = window.URL.createObjectURL(blob);\n",
              "      a.download = filename;\n",
              "      div.appendChild(a);\n",
              "      a.click();\n",
              "      div.remove();\n",
              "    }\n",
              "  "
            ],
            "text/plain": [
              "<IPython.core.display.Javascript object>"
            ]
          },
          "metadata": {
            "tags": []
          }
        },
        {
          "output_type": "display_data",
          "data": {
            "application/javascript": [
              "download(\"download_1de2b7e3-ebbc-4804-a051-478edcfe2aaa\", \"Biden_wordcloud_20210125-152117.png\", 66916)"
            ],
            "text/plain": [
              "<IPython.core.display.Javascript object>"
            ]
          },
          "metadata": {
            "tags": []
          }
        },
        {
          "output_type": "display_data",
          "data": {
            "text/plain": [
              "<Figure size 432x288 with 0 Axes>"
            ]
          },
          "metadata": {
            "tags": []
          }
        }
      ]
    },
    {
      "cell_type": "markdown",
      "metadata": {
        "id": "sqcnDTjr91_W"
      },
      "source": [
        "## Wordcloud Trump"
      ]
    },
    {
      "cell_type": "code",
      "metadata": {
        "colab": {
          "base_uri": "https://localhost:8080/",
          "height": 386
        },
        "id": "KHJ4aqgt-k4x",
        "outputId": "3ef72518-43fc-452b-cb19-bc45e6460014"
      },
      "source": [
        "## Pull the list together into a single string\n",
        "Trump_string = ''.join(Trump_df['clean_text'])    \n",
        "\n",
        "# Reset stopwords by pulling them again from the wordcloud package\n",
        "stopwords = set(STOPWORDS)\n",
        "\n",
        "# Set color sheme\n",
        "cmap_Reds = mpl.cm.Reds(np.linspace(0,1,20))\n",
        "cmap_Reds = mpl.colors.ListedColormap(cmap_Reds[10:,:-1])\n",
        "\n",
        "# Make the text object    \n",
        "Trump_wordcloud_test = WordCloud(stopwords=stopwords, background_color=\"white\", colormap=cmap_Reds).generate(Trump_string)\n",
        "\n",
        "# set plot up\n",
        "plt.figure(figsize=(6,6))\n",
        "plt.imshow(Trump_wordcloud_test, interpolation='bilinear')\n",
        "plt.axis(\"off\")\n",
        "plt.show()\n",
        "plt.clf()"
      ],
      "execution_count": 14,
      "outputs": [
        {
          "output_type": "error",
          "ename": "ValueError",
          "evalue": "ignored",
          "traceback": [
            "\u001b[0;31m---------------------------------------------------------------------------\u001b[0m",
            "\u001b[0;31mValueError\u001b[0m                                Traceback (most recent call last)",
            "\u001b[0;32m<ipython-input-14-8892612d5ee6>\u001b[0m in \u001b[0;36m<module>\u001b[0;34m()\u001b[0m\n\u001b[1;32m     10\u001b[0m \u001b[0;34m\u001b[0m\u001b[0m\n\u001b[1;32m     11\u001b[0m \u001b[0;31m# Make the text object\u001b[0m\u001b[0;34m\u001b[0m\u001b[0;34m\u001b[0m\u001b[0;34m\u001b[0m\u001b[0m\n\u001b[0;32m---> 12\u001b[0;31m \u001b[0mTrump_wordcloud_test\u001b[0m \u001b[0;34m=\u001b[0m \u001b[0mWordCloud\u001b[0m\u001b[0;34m(\u001b[0m\u001b[0mstopwords\u001b[0m\u001b[0;34m=\u001b[0m\u001b[0mstopwords\u001b[0m\u001b[0;34m,\u001b[0m \u001b[0mbackground_color\u001b[0m\u001b[0;34m=\u001b[0m\u001b[0;34m\"white\"\u001b[0m\u001b[0;34m,\u001b[0m \u001b[0mcolormap\u001b[0m\u001b[0;34m=\u001b[0m\u001b[0mcmap_Reds\u001b[0m\u001b[0;34m)\u001b[0m\u001b[0;34m.\u001b[0m\u001b[0mgenerate\u001b[0m\u001b[0;34m(\u001b[0m\u001b[0mTrump_string\u001b[0m\u001b[0;34m)\u001b[0m\u001b[0;34m\u001b[0m\u001b[0;34m\u001b[0m\u001b[0m\n\u001b[0m\u001b[1;32m     13\u001b[0m \u001b[0;34m\u001b[0m\u001b[0m\n\u001b[1;32m     14\u001b[0m \u001b[0;31m# set plot up\u001b[0m\u001b[0;34m\u001b[0m\u001b[0;34m\u001b[0m\u001b[0;34m\u001b[0m\u001b[0m\n",
            "\u001b[0;32m/usr/local/lib/python3.6/dist-packages/wordcloud/wordcloud.py\u001b[0m in \u001b[0;36mgenerate\u001b[0;34m(self, text)\u001b[0m\n\u001b[1;32m    603\u001b[0m         \u001b[0mself\u001b[0m\u001b[0;34m\u001b[0m\u001b[0;34m\u001b[0m\u001b[0m\n\u001b[1;32m    604\u001b[0m         \"\"\"\n\u001b[0;32m--> 605\u001b[0;31m         \u001b[0;32mreturn\u001b[0m \u001b[0mself\u001b[0m\u001b[0;34m.\u001b[0m\u001b[0mgenerate_from_text\u001b[0m\u001b[0;34m(\u001b[0m\u001b[0mtext\u001b[0m\u001b[0;34m)\u001b[0m\u001b[0;34m\u001b[0m\u001b[0;34m\u001b[0m\u001b[0m\n\u001b[0m\u001b[1;32m    606\u001b[0m \u001b[0;34m\u001b[0m\u001b[0m\n\u001b[1;32m    607\u001b[0m     \u001b[0;32mdef\u001b[0m \u001b[0m_check_generated\u001b[0m\u001b[0;34m(\u001b[0m\u001b[0mself\u001b[0m\u001b[0;34m)\u001b[0m\u001b[0;34m:\u001b[0m\u001b[0;34m\u001b[0m\u001b[0;34m\u001b[0m\u001b[0m\n",
            "\u001b[0;32m/usr/local/lib/python3.6/dist-packages/wordcloud/wordcloud.py\u001b[0m in \u001b[0;36mgenerate_from_text\u001b[0;34m(self, text)\u001b[0m\n\u001b[1;32m    585\u001b[0m         \"\"\"\n\u001b[1;32m    586\u001b[0m         \u001b[0mwords\u001b[0m \u001b[0;34m=\u001b[0m \u001b[0mself\u001b[0m\u001b[0;34m.\u001b[0m\u001b[0mprocess_text\u001b[0m\u001b[0;34m(\u001b[0m\u001b[0mtext\u001b[0m\u001b[0;34m)\u001b[0m\u001b[0;34m\u001b[0m\u001b[0;34m\u001b[0m\u001b[0m\n\u001b[0;32m--> 587\u001b[0;31m         \u001b[0mself\u001b[0m\u001b[0;34m.\u001b[0m\u001b[0mgenerate_from_frequencies\u001b[0m\u001b[0;34m(\u001b[0m\u001b[0mwords\u001b[0m\u001b[0;34m)\u001b[0m\u001b[0;34m\u001b[0m\u001b[0;34m\u001b[0m\u001b[0m\n\u001b[0m\u001b[1;32m    588\u001b[0m         \u001b[0;32mreturn\u001b[0m \u001b[0mself\u001b[0m\u001b[0;34m\u001b[0m\u001b[0;34m\u001b[0m\u001b[0m\n\u001b[1;32m    589\u001b[0m \u001b[0;34m\u001b[0m\u001b[0m\n",
            "\u001b[0;32m/usr/local/lib/python3.6/dist-packages/wordcloud/wordcloud.py\u001b[0m in \u001b[0;36mgenerate_from_frequencies\u001b[0;34m(self, frequencies, max_font_size)\u001b[0m\n\u001b[1;32m    381\u001b[0m         \u001b[0;32mif\u001b[0m \u001b[0mlen\u001b[0m\u001b[0;34m(\u001b[0m\u001b[0mfrequencies\u001b[0m\u001b[0;34m)\u001b[0m \u001b[0;34m<=\u001b[0m \u001b[0;36m0\u001b[0m\u001b[0;34m:\u001b[0m\u001b[0;34m\u001b[0m\u001b[0;34m\u001b[0m\u001b[0m\n\u001b[1;32m    382\u001b[0m             raise ValueError(\"We need at least 1 word to plot a word cloud, \"\n\u001b[0;32m--> 383\u001b[0;31m                              \"got %d.\" % len(frequencies))\n\u001b[0m\u001b[1;32m    384\u001b[0m         \u001b[0mfrequencies\u001b[0m \u001b[0;34m=\u001b[0m \u001b[0mfrequencies\u001b[0m\u001b[0;34m[\u001b[0m\u001b[0;34m:\u001b[0m\u001b[0mself\u001b[0m\u001b[0;34m.\u001b[0m\u001b[0mmax_words\u001b[0m\u001b[0;34m]\u001b[0m\u001b[0;34m\u001b[0m\u001b[0;34m\u001b[0m\u001b[0m\n\u001b[1;32m    385\u001b[0m \u001b[0;34m\u001b[0m\u001b[0m\n",
            "\u001b[0;31mValueError\u001b[0m: We need at least 1 word to plot a word cloud, got 0."
          ]
        }
      ]
    },
    {
      "cell_type": "markdown",
      "metadata": {
        "id": "F9G3-d5O-5aL"
      },
      "source": [
        "### Getting rid of some words in the word cloud"
      ]
    },
    {
      "cell_type": "code",
      "metadata": {
        "id": "BA7OWfAt-5aL"
      },
      "source": [
        "# Add more stopwords - \"will\"\n",
        "stopwords.update([\"will\"])\n",
        "\n",
        "Trump_wordcloud = WordCloud(stopwords=stopwords, background_color=\"white\", colormap=cmap_Reds).generate(Trump_string)\n",
        "\n",
        "plt.imshow(Trump_wordcloud, interpolation='bilinear')\n",
        "plt.axis(\"off\")\n",
        "plt.figure(figsize=(6,6))\n",
        "plt.show()"
      ],
      "execution_count": null,
      "outputs": []
    },
    {
      "cell_type": "markdown",
      "metadata": {
        "id": "9hYjoBDJFrPj"
      },
      "source": [
        "### Downloading the plot"
      ]
    },
    {
      "cell_type": "code",
      "metadata": {
        "id": "U4HeYuuvFrPj"
      },
      "source": [
        "Trump_filename = 'Trump_wordcloud_' + timestr + '.png'\n",
        "print(Trump_filename)\n",
        "\n",
        "Trump_wordcloud.to_file(Trump_filename)\n",
        "files.download(Trump_filename)\n",
        "\n",
        "plt.clf()"
      ],
      "execution_count": null,
      "outputs": []
    },
    {
      "cell_type": "markdown",
      "metadata": {
        "id": "NUtX1n2wNbgr"
      },
      "source": [
        "# Histogram of sentiments"
      ]
    },
    {
      "cell_type": "code",
      "metadata": {
        "id": "DPCCmwIeOYJF"
      },
      "source": [
        "import seaborn as sns\n",
        "\n",
        "hue_colors = {'Biden':'#0015BC', 'Trump':'#ff0803'}\n",
        "\n",
        "sns.set_style(\"white\")\n",
        "sns.set_context('notebook')\n",
        "\n",
        "sentiments_hist = sns.displot(data=BidenTrump_df, kind=\"hist\", \n",
        "                              x=\"sentiment_compound\", col=\"person\", \n",
        "                              hue=\"person\", palette=hue_colors,\n",
        "                              legend=False)\n",
        "\n",
        "sentiments_hist.fig.suptitle(\"Sentiment Distribution of Twitter Activity\", y=1.03)\n",
        "sentiments_hist.set_titles(\"{col_name}\")\n",
        "sentiments_hist.set(xlabel=\"Negative Sentiments <---> Positive Sentiments\", ylabel=\"Frequency\")\n",
        "#sentiments_hist.set(xlim=(-1, 1))"
      ],
      "execution_count": null,
      "outputs": []
    },
    {
      "cell_type": "markdown",
      "metadata": {
        "id": "iIrwsCTXT7Ze"
      },
      "source": [
        "## Downloading the plot"
      ]
    },
    {
      "cell_type": "code",
      "metadata": {
        "id": "aNL3r5U_T9oG"
      },
      "source": [
        "Hist_filename = 'SentimentHistogram_' + timestr + '.png'\n",
        "print(Hist_filename)\n",
        "\n",
        "sentiments_hist.savefig(Hist_filename)\n",
        "files.download(Hist_filename)\n",
        "\n",
        "plt.clf()"
      ],
      "execution_count": null,
      "outputs": []
    },
    {
      "cell_type": "markdown",
      "metadata": {
        "id": "Enz2rzNE8xWr"
      },
      "source": [
        "# Most negative and most positive tweets"
      ]
    },
    {
      "cell_type": "code",
      "metadata": {
        "id": "RJV3Iclp814t"
      },
      "source": [
        "Biden_pos = Biden_df.iloc[Biden_df['sentiment_compound'].idxmax(),4]\n",
        "Biden_neg = Biden_df.iloc[Biden_df['sentiment_compound'].idxmin(),4]\n",
        "\n",
        "Trump_pos = Trump_df.iloc[Trump_df['sentiment_compound'].idxmax(),4]\n",
        "Trump_neg = Trump_df.iloc[Trump_df['sentiment_compound'].idxmin(),4]\n",
        "\n",
        "extremeSentiments_filename = 'extreme_sentiments_' + timestr + '.txt'\n",
        "\n",
        "extremeSentiments_string = (\"Biden positive: \\t\" + Biden_pos + \"\\n\\n\" + \n",
        "                            \"Biden negative: \\t\" + Biden_neg + \"\\n\\n\" + \n",
        "                            \"Trump positive: \\t\" + Trump_pos + \"\\n\\n\" + \n",
        "                            \"Trump negative: \\t\" + Trump_neg + \"\\n\\n\")\n",
        "\n",
        "extremeSentiments_file = open(extremeSentiments_filename, \"w\")\n",
        "extremeSentiments_file.write(extremeSentiments_string)\n",
        "extremeSentiments_file.close()\n",
        "\n",
        "files.download(extremeSentiments_filename)\n",
        "\n",
        "print(\"Biden positive:\", Biden_pos)\n",
        "print(\"Biden negative:\", Biden_neg)\n",
        "print(\"Trump positive:\", Trump_pos)\n",
        "print(\"Trump negative:\", Trump_neg)\n"
      ],
      "execution_count": null,
      "outputs": []
    },
    {
      "cell_type": "markdown",
      "metadata": {
        "id": "-qay1_CtU_2D"
      },
      "source": [
        "# Bivariate plot of sentiment and reach"
      ]
    },
    {
      "cell_type": "markdown",
      "metadata": {
        "id": "ugu4rqCRXTp5"
      },
      "source": [
        "## Favorites by Sentiment"
      ]
    },
    {
      "cell_type": "code",
      "metadata": {
        "id": "q9C5x-YNVJtG"
      },
      "source": [
        "sns.set_context('notebook')\n",
        "sns.set_style('whitegrid')\n",
        "\n",
        "favorite_biplot = sns.lmplot(data=BidenTrump_df, x=\"sentiment_compound\", y=\"favorite_count\", \n",
        "            col=\"person\", hue=\"person\", palette=hue_colors, legend=False, order=2, ci=None,\n",
        "            line_kws={'color': 'black'})\n",
        "\n",
        "favorite_biplot.fig.suptitle(\"Favorite Count by Sentiment\", y=1.03)\n",
        "favorite_biplot.set_titles(\"{col_name}\")\n",
        "favorite_biplot.set(xlabel=\"Negative Sentiments <---> Positive Sentiments\", ylabel=\"Favorite Count\")\n",
        "favorite_biplot.set(ylim=(0,None))"
      ],
      "execution_count": null,
      "outputs": []
    },
    {
      "cell_type": "markdown",
      "metadata": {
        "id": "s1PljxtWW7LZ"
      },
      "source": [
        "### Downloading the plot"
      ]
    },
    {
      "cell_type": "code",
      "metadata": {
        "id": "Q_FFyBqFW7LZ"
      },
      "source": [
        "favorite_biplot_filename = 'favorite_biplot_' + timestr + '.png'\n",
        "print(favorite_biplot_filename)\n",
        "\n",
        "favorite_biplot.savefig(favorite_biplot_filename)\n",
        "files.download(favorite_biplot_filename)\n",
        "\n",
        "plt.clf()"
      ],
      "execution_count": null,
      "outputs": []
    },
    {
      "cell_type": "markdown",
      "metadata": {
        "id": "kBTu4BENXbhQ"
      },
      "source": [
        "## Retweet by Sentiment"
      ]
    },
    {
      "cell_type": "code",
      "metadata": {
        "id": "OVz_0gkRXnNP"
      },
      "source": [
        "sns.set_style('whitegrid')\n",
        "sns.set_context('notebook')\n",
        "\n",
        "retweet_biplot = sns.lmplot(data=BidenTrump_df, x=\"sentiment_compound\", y=\"retweet_count\", \n",
        "            col=\"person\", hue=\"person\", palette=hue_colors, legend=False, order=2, ci=None,\n",
        "            line_kws={'color': 'black'})\n",
        "\n",
        "retweet_biplot.fig.suptitle(\"Retweet Count by Sentiment\", y=1.03)\n",
        "retweet_biplot.set_titles(\"{col_name}\")\n",
        "retweet_biplot.set(xlabel=\"Negative Sentiments <---> Positive Sentiments\", ylabel=\"Retweet Count\")\n",
        "retweet_biplot.set(ylim=(0,None))"
      ],
      "execution_count": null,
      "outputs": []
    },
    {
      "cell_type": "markdown",
      "metadata": {
        "id": "pvBouRh6ZiS6"
      },
      "source": [
        "### Downloading the plot"
      ]
    },
    {
      "cell_type": "code",
      "metadata": {
        "id": "Qp5V8iLnZiS6"
      },
      "source": [
        "retweet_biplot_filename = 'retweet_biplot_' + timestr + '.png'\n",
        "print(retweet_biplot_filename)\n",
        "\n",
        "retweet_biplot.savefig(retweet_biplot_filename)\n",
        "files.download(retweet_biplot_filename)\n",
        "\n",
        "plt.clf()"
      ],
      "execution_count": null,
      "outputs": []
    },
    {
      "cell_type": "markdown",
      "metadata": {
        "id": "EeBkwVi1xAbX"
      },
      "source": [
        "# Sentiment over recent days"
      ]
    },
    {
      "cell_type": "code",
      "metadata": {
        "id": "AG_86TGXcLGX"
      },
      "source": [
        "from collections import deque\n",
        "\n",
        "sns.set_context('notebook')\n",
        "sns.set_style('whitegrid')\n",
        "\n",
        "\n",
        "sentiment_date = sns.relplot(data=BidenTrump_df, kind=\"line\", x=\"date\", \n",
        "                             y=\"sentiment_compound\", hue=\"person\",\n",
        "                             palette=hue_colors, ci=None, legend=True,\n",
        "                             aspect=2, linewidth = 2.5)\n",
        "\n",
        "date_list = deque()\n",
        "\n",
        "for date in BidenTrump_df.date.unique():\n",
        "  date_list.appendleft(date.strftime(\"%d/%m\"))\n",
        "\n",
        "sentiment_date.set_xticklabels(date_list)\n",
        "\n",
        "sentiment_date.fig.suptitle(\"Sentiment Development over Recent Days\", y=1.03)\n",
        "sentiment_date.set_titles(\"{col_name}\")\n",
        "sentiment_date.set(xlabel=\"Date\", ylabel=\"Negative Sentiments <---> Positive Sentiments\")\n",
        "#sentiment_date.set(ylim=(-1, 1))\n",
        "sentiment_date.set_xticklabels(rotation=90)\n",
        "sentiment_date._legend.set_title('Person')\n",
        "\n"
      ],
      "execution_count": null,
      "outputs": []
    },
    {
      "cell_type": "markdown",
      "metadata": {
        "id": "l8wYJSMRmBkI"
      },
      "source": [
        "## Downloading the plot"
      ]
    },
    {
      "cell_type": "code",
      "metadata": {
        "id": "mpMPhAnFmBkI"
      },
      "source": [
        "sentiment_date_filename = 'sentiment_date_' + timestr + '.png'\n",
        "print(sentiment_date_filename)\n",
        "\n",
        "sentiment_date.savefig(sentiment_date_filename)\n",
        "files.download(sentiment_date_filename)\n",
        "\n",
        "plt.clf()"
      ],
      "execution_count": null,
      "outputs": []
    },
    {
      "cell_type": "markdown",
      "metadata": {
        "id": "V2OznNL10fSG"
      },
      "source": [
        "# Sentiment over an average day"
      ]
    },
    {
      "cell_type": "code",
      "metadata": {
        "id": "yoTHrB8k0e9x"
      },
      "source": [
        "sentiment_hour = sns.relplot(data=BidenTrump_df, kind=\"line\", x=\"hour\", \n",
        "                             y=\"sentiment_compound\", col=\"person\", hue=\"person\",\n",
        "                             palette=hue_colors, ci=\"sd\", legend=False)\n",
        "\n",
        "sentiment_hour.fig.suptitle(\"Sentiment Development over an Average Day\", y=1.03)\n",
        "sentiment_hour.set_titles(\"{col_name}\")\n",
        "sentiment_hour.set(xlabel=\"Hour of the Day\", ylabel=\"Negative Sentiments <---> Positive Sentiments\")\n",
        "sentiment_hour.set(xlim=(7, 23))\n"
      ],
      "execution_count": null,
      "outputs": []
    },
    {
      "cell_type": "markdown",
      "metadata": {
        "id": "zKbPXCFN4m21"
      },
      "source": [
        "## Downloading the plot"
      ]
    },
    {
      "cell_type": "code",
      "metadata": {
        "id": "IAquHXLB4m21"
      },
      "source": [
        "sentiment_hour_filename = 'sentiment_hour_' + timestr + '.png'\n",
        "print(sentiment_hour_filename)\n",
        "\n",
        "sentiment_hour.savefig(sentiment_hour_filename)\n",
        "files.download(sentiment_hour_filename)\n",
        "\n",
        "plt.clf()"
      ],
      "execution_count": null,
      "outputs": []
    }
  ]
}
